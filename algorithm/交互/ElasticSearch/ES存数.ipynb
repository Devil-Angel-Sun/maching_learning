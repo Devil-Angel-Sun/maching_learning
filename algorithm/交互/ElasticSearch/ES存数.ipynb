{
 "cells": [
  {
   "cell_type": "code",
   "execution_count": 1,
   "metadata": {},
   "outputs": [],
   "source": [
    "import json\n",
    "with open('./history_170_2days.json') as f:\n",
    "    data_json = json.load(f)"
   ]
  },
  {
   "cell_type": "code",
   "execution_count": 3,
   "metadata": {},
   "outputs": [
    {
     "data": {
      "text/plain": [
       "{'apmGroup': '*',\n",
       " 'dd-api-key': 'f186854e-8cad-3dfb-942a-dabf985c44e3',\n",
       " 'head': 170,\n",
       " 'monitorId': 170,\n",
       " 'name': 'request',\n",
       " 'scope': '{\"type\":\"metric\",\"metric\":\"secReqCnt\",\"service\":\"kafka\",\"serviceId\":\"ZjE4Njg1NGUtOGNhZC0zZGZiLTk0MmEtZGFiZjk4NWM0NGUzfGthZmth\",\"resource\":[\"*\"]}',\n",
       " 'silence': 0,\n",
       " 'timestamp': 1648742400,\n",
       " 'value': 2}"
      ]
     },
     "execution_count": 3,
     "metadata": {},
     "output_type": "execute_result"
    }
   ],
   "source": [
    "data_json[0]"
   ]
  },
  {
   "cell_type": "code",
   "execution_count": 8,
   "metadata": {},
   "outputs": [],
   "source": [
    "from elasticsearch import Elasticsearch, helpers"
   ]
  },
  {
   "cell_type": "code",
   "execution_count": 6,
   "metadata": {},
   "outputs": [],
   "source": [
    "index = 'dc_test_prophet'\n",
    "es = Elasticsearch(\n",
    "        '192.168.50.107:19200',\n",
    "        timeout=30, \n",
    "        max_retries=10, \n",
    "        retry_on_timeout=True\n",
    "    )"
   ]
  },
  {
   "cell_type": "code",
   "execution_count": 7,
   "metadata": {},
   "outputs": [],
   "source": [
    "actions = [{\n",
    "    '_index': index,\n",
    "    '_type': '_doc',\n",
    "    '_source': l\n",
    "} for l in data_json]"
   ]
  },
  {
   "cell_type": "code",
   "execution_count": 9,
   "metadata": {},
   "outputs": [
    {
     "data": {
      "text/plain": [
       "(2880, [])"
      ]
     },
     "execution_count": 9,
     "metadata": {},
     "output_type": "execute_result"
    }
   ],
   "source": [
    "helpers.bulk(es, actions, chunk_size=100)"
   ]
  },
  {
   "cell_type": "code",
   "execution_count": 10,
   "metadata": {},
   "outputs": [
    {
     "data": {
      "text/plain": [
       "{'_shards': {'total': 1, 'successful': 1, 'failed': 0}}"
      ]
     },
     "execution_count": 10,
     "metadata": {},
     "output_type": "execute_result"
    }
   ],
   "source": [
    "es.indices.refresh(index=index)"
   ]
  },
  {
   "cell_type": "code",
   "execution_count": null,
   "metadata": {},
   "outputs": [],
   "source": []
  }
 ],
 "metadata": {
  "kernelspec": {
   "display_name": "Python 3",
   "language": "python",
   "name": "python3"
  },
  "language_info": {
   "codemirror_mode": {
    "name": "ipython",
    "version": 3
   },
   "file_extension": ".py",
   "mimetype": "text/x-python",
   "name": "python",
   "nbconvert_exporter": "python",
   "pygments_lexer": "ipython3",
   "version": "3.7.6"
  }
 },
 "nbformat": 4,
 "nbformat_minor": 4
}
