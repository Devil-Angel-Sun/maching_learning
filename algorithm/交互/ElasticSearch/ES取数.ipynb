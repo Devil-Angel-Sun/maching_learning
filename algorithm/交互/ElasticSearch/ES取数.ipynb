{
 "cells": [
  {
   "cell_type": "code",
   "execution_count": 1,
   "metadata": {},
   "outputs": [],
   "source": [
    "from elasticsearch import Elasticsearch, helpers\n",
    "import json, datetime"
   ]
  },
  {
   "cell_type": "code",
   "execution_count": 2,
   "metadata": {},
   "outputs": [],
   "source": [
    "elastic = {}\n",
    "elastic['http'] = '192.168.50.107:19200'\n",
    "elastic['index'] = 'dc_agent_checks_20220407'"
   ]
  },
  {
   "cell_type": "code",
   "execution_count": 3,
   "metadata": {},
   "outputs": [],
   "source": [
    "es = Elasticsearch(\n",
    "            elastic['http'], \n",
    "#             timeout=30, \n",
    "#             max_retries=10, \n",
    "#             retry_on_timeout=True\n",
    "        )"
   ]
  },
  {
   "cell_type": "code",
   "execution_count": 4,
   "metadata": {},
   "outputs": [
    {
     "data": {
      "text/plain": [
       "True"
      ]
     },
     "execution_count": 4,
     "metadata": {},
     "output_type": "execute_result"
    }
   ],
   "source": [
    "es.ping()"
   ]
  },
  {
   "cell_type": "code",
   "execution_count": 5,
   "metadata": {},
   "outputs": [
    {
     "data": {
      "text/plain": [
       "{'name': 'node107',\n",
       " 'cluster_name': 'databuff',\n",
       " 'cluster_uuid': '1E5Tv19MTricEHsSuqZfsQ',\n",
       " 'version': {'number': '7.17.1',\n",
       "  'build_flavor': 'default',\n",
       "  'build_type': 'docker',\n",
       "  'build_hash': 'e5acb99f822233d62d6444ce45a4543dc1c8059a',\n",
       "  'build_date': '2022-02-23T22:20:54.153567231Z',\n",
       "  'build_snapshot': False,\n",
       "  'lucene_version': '8.11.1',\n",
       "  'minimum_wire_compatibility_version': '6.8.0',\n",
       "  'minimum_index_compatibility_version': '6.0.0-beta1'},\n",
       " 'tagline': 'You Know, for Search'}"
      ]
     },
     "execution_count": 5,
     "metadata": {},
     "output_type": "execute_result"
    }
   ],
   "source": [
    "es.info()"
   ]
  },
  {
   "cell_type": "markdown",
   "metadata": {},
   "source": [
    "## 查询某个范围的数据"
   ]
  },
  {
   "cell_type": "code",
   "execution_count": 18,
   "metadata": {},
   "outputs": [],
   "source": [
    "body = {\n",
    "    \"query\":{\n",
    "        \"range\":{\n",
    "            \"timestamp\":{\n",
    "                \"gte\":1649263925,       # >=18\n",
    "                \"lte\":1649268125        # <=30\n",
    "            }\n",
    "        }\n",
    "    }\n",
    "}\n",
    "# 查询18<=age<=30的所有数据\n",
    "data = es.search(index=\"dc_agent_checks_20220407\",doc_type=\"_doc\",body=body)['hits']['hits']\n"
   ]
  },
  {
   "cell_type": "code",
   "execution_count": 20,
   "metadata": {},
   "outputs": [
    {
     "data": {
      "text/plain": [
       "{'_index': 'dc_agent_checks_20220407',\n",
       " '_type': '_doc',\n",
       " '_id': 'qeLK_38B-uvFIZjFWd2D',\n",
       " '_score': 1.0,\n",
       " '_source': {'agent_checks': [['disk',\n",
       "    'disk',\n",
       "    'disk:e5dffb8bef24336f',\n",
       "    'OK',\n",
       "    ''],\n",
       "   ['network', 'network', 'network:309e288096154402', 'OK', ''],\n",
       "   ['cpu', 'cpu', 'cpu', 'OK', ''],\n",
       "   ['ntp', 'ntp', 'ntp:d884b5186b651429', 'OK', ''],\n",
       "   ['file_handle', 'file_handle', 'file_handle', 'OK', ''],\n",
       "   ['io', 'io', 'io', 'OK', ''],\n",
       "   ['redisdb', 'redisdb', 'redisdb:992065597163bd7e', 'OK', ''],\n",
       "   ['uptime', 'uptime', 'uptime', 'OK', ''],\n",
       "   ['system_core', 'system_core', 'system_core:d884b5186b651429', 'OK', ''],\n",
       "   ['docker', 'docker', 'docker', 'OK', ''],\n",
       "   ['mysql',\n",
       "    'mysql',\n",
       "    'mysql:4d39010ce2e83f7d',\n",
       "    'ERROR',\n",
       "    '[{\"message\": \"(2003, \\\\\"Can\\'t connect to MySQL server on \\'127.0.0.1\\' ([Errno 111] Connection refused)\\\\\")\", \"traceback\": \"Traceback (most recent call last):\\\\n  File \\\\\"/opt/databuff-agent/embedded/lib/python3.8/site-packages/pymysql/connections.py\\\\\", line 581, in connect\\\\n    sock = socket.create_connection(\\\\n  File \\\\\"/opt/databuff-agent/embedded/lib/python3.8/socket.py\\\\\", line 808, in create_connection\\\\n    raise err\\\\n  File \\\\\"/opt/databuff-agent/embedded/lib/python3.8/socket.py\\\\\", line 796, in create_connection\\\\n    sock.connect(sa)\\\\nConnectionRefusedError: [Errno 111] Connection refused\\\\n\\\\nDuring handling of the above exception, another exception occurred:\\\\n\\\\nTraceback (most recent call last):\\\\n  File \\\\\"/opt/databuff-agent/embedded/lib/python3.8/site-packages/databuff_checks/base/checks/base.py\\\\\", line 993, in run\\\\n    self.check(instance)\\\\n  File \\\\\"/opt/databuff-agent/embedded/lib/python3.8/site-packages/databuff_checks/mysql/mysql.py\\\\\", line 107, in check\\\\n    with self._connect() as db:\\\\n  File \\\\\"/opt/databuff-agent/embedded/lib/python3.8/contextlib.py\\\\\", line 113, in __enter__\\\\n    return next(self.gen)\\\\n  File \\\\\"/opt/databuff-agent/embedded/lib/python3.8/site-packages/databuff_checks/mysql/mysql.py\\\\\", line 202, in _connect\\\\n    db = pymysql.connect(**connect_args)\\\\n  File \\\\\"/opt/databuff-agent/embedded/lib/python3.8/site-packages/pymysql/__init__.py\\\\\", line 94, in Connect\\\\n    return Connection(*args, **kwargs)\\\\n  File \\\\\"/opt/databuff-agent/embedded/lib/python3.8/site-packages/pymysql/connections.py\\\\\", line 325, in __init__\\\\n    self.connect()\\\\n  File \\\\\"/opt/databuff-agent/embedded/lib/python3.8/site-packages/pymysql/connections.py\\\\\", line 630, in connect\\\\n    raise exc\\\\npymysql.err.OperationalError: (2003, \\\\\"Can\\'t connect to MySQL server on \\'127.0.0.1\\' ([Errno 111] Connection refused)\\\\\")\\\\n\"}]'],\n",
       "   ['elastic', 'elastic', 'elastic:a02d94e5a3626606', 'OK', ''],\n",
       "   ['elastic', 'elastic', 'elastic:25330dc13860431a', 'OK', ''],\n",
       "   ['load', 'load', 'load', 'OK', ''],\n",
       "   ['memory', 'memory', 'memory', 'OK', '']],\n",
       "  'apiKey': 'f186854e-8cad-3dfb-942a-dabf985c44e3',\n",
       "  'meta': {'hostname': '107host',\n",
       "   'timezones': ['CST'],\n",
       "   'ec2-hostname': '',\n",
       "   'socket-fqdn': '107host',\n",
       "   'host_aliases': [],\n",
       "   'instance-id': '',\n",
       "   'socket-hostname': '107host'},\n",
       "  'dd-api-key': 'f186854e-8cad-3dfb-942a-dabf985c44e3',\n",
       "  'agentVersion': '2.3.0-1-dev',\n",
       "  'internalHostname': '107host',\n",
       "  'uuid': '6c3f4d56-6ad3-5a63-9b22-f94ce8d2938d',\n",
       "  'external_host_tags': [],\n",
       "  'timestamp': 1649263925,\n",
       "  'x-dd-hostname': '107host',\n",
       "  'user-agent': 'databuff-agent/2.3.0-1-dev'}}"
      ]
     },
     "execution_count": 20,
     "metadata": {},
     "output_type": "execute_result"
    }
   ],
   "source": [
    "data[0]"
   ]
  },
  {
   "cell_type": "code",
   "execution_count": null,
   "metadata": {},
   "outputs": [],
   "source": []
  }
 ],
 "metadata": {
  "kernelspec": {
   "display_name": "Python 3",
   "language": "python",
   "name": "python3"
  },
  "language_info": {
   "codemirror_mode": {
    "name": "ipython",
    "version": 3
   },
   "file_extension": ".py",
   "mimetype": "text/x-python",
   "name": "python",
   "nbconvert_exporter": "python",
   "pygments_lexer": "ipython3",
   "version": "3.7.6"
  }
 },
 "nbformat": 4,
 "nbformat_minor": 4
}
