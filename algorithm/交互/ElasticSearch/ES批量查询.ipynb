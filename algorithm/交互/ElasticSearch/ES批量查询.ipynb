{
 "cells": [
  {
   "cell_type": "code",
   "execution_count": 1,
   "metadata": {},
   "outputs": [],
   "source": [
    "from elasticsearch import Elasticsearch\n",
    "from elasticsearch import helpers\n",
    "import time"
   ]
  },
  {
   "cell_type": "code",
   "execution_count": 21,
   "metadata": {},
   "outputs": [],
   "source": [
    "configs = {\n",
    "    \"http\": \"192.168.50.107:29200\",\n",
    "    \"span_index\":\"dc_prophet_test_*\"\n",
    "}"
   ]
  },
  {
   "cell_type": "code",
   "execution_count": 3,
   "metadata": {},
   "outputs": [
    {
     "data": {
      "text/plain": [
       "604800"
      ]
     },
     "execution_count": 3,
     "metadata": {},
     "output_type": "execute_result"
    }
   ],
   "source": [
    "24*60*60*7"
   ]
  },
  {
   "cell_type": "code",
   "execution_count": 24,
   "metadata": {},
   "outputs": [],
   "source": [
    "class Detect(object):\n",
    "    def __init__(self, config):\n",
    "        self.config = config\n",
    "        self.es = Elasticsearch(self.config['http'])\n",
    "         \n",
    "    def scroll_search(self, body, index):\n",
    "        batches = 10000  # 每一批数据量大小\n",
    "        queryData = self.es.search(index=index, scroll='5m', timeout='60s', size=batches, body=body)\n",
    "        metadata = queryData.get(\"hits\").get(\"hits\")\n",
    "        scroll_id = queryData[\"_scroll_id\"]\n",
    "        total = queryData[\"hits\"][\"total\"]['value']\n",
    "        for i in range(int(total / batches)):\n",
    "            res = self.es.scroll(scroll_id=scroll_id, scroll='5m')  # scroll参数必须指定否则会报错\n",
    "            metadata += res[\"hits\"][\"hits\"]\n",
    "        self.es.clear_scroll(scroll_id=scroll_id)\n",
    "        return metadata\n",
    "    \n",
    "    def job(self):\n",
    "        body = {\n",
    "                    'query': {\n",
    "                        'bool': {\n",
    "                            'must': [{'range': {'timestamp': {'gte': int(time.time()) - 604800}}}\n",
    "                                     ]\n",
    "                        }\n",
    "                    }\n",
    "                }\n",
    "\n",
    "        metadata = self.scroll_search(body, self.config['span_index'])\n",
    "        return metadata"
   ]
  },
  {
   "cell_type": "code",
   "execution_count": 25,
   "metadata": {},
   "outputs": [],
   "source": [
    "detect = Detect(configs)\n",
    "metadata = detect.job()"
   ]
  },
  {
   "cell_type": "code",
   "execution_count": null,
   "metadata": {},
   "outputs": [],
   "source": []
  },
  {
   "cell_type": "code",
   "execution_count": null,
   "metadata": {},
   "outputs": [],
   "source": []
  },
  {
   "cell_type": "code",
   "execution_count": null,
   "metadata": {},
   "outputs": [],
   "source": []
  }
 ],
 "metadata": {
  "kernelspec": {
   "display_name": "Python 3",
   "language": "python",
   "name": "python3"
  },
  "language_info": {
   "codemirror_mode": {
    "name": "ipython",
    "version": 3
   },
   "file_extension": ".py",
   "mimetype": "text/x-python",
   "name": "python",
   "nbconvert_exporter": "python",
   "pygments_lexer": "ipython3",
   "version": "3.7.6"
  }
 },
 "nbformat": 4,
 "nbformat_minor": 4
}
